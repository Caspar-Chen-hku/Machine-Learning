{
 "cells": [
  {
   "cell_type": "code",
   "execution_count": 2,
   "metadata": {
    "scrolled": true
   },
   "outputs": [
    {
     "ename": "ERROR",
     "evalue": "Error in eval(expr, envir, enclos): 找不到对象'wbcd'\n",
     "output_type": "error",
     "traceback": [
      "Error in eval(expr, envir, enclos): 找不到对象'wbcd'\nTraceback:\n"
     ]
    }
   ],
   "source": [
    "# drop the id feature\n",
    "wbcd <- wbcd[-1]"
   ]
  },
  {
   "cell_type": "markdown",
   "metadata": {},
   "source": [
    "# Chapter 3: Classification using Nearest Neighbors --------------------\n",
    "\n",
    "## Example: Classifying Cancer Samples ----\n",
    "## Step 2: Exploring and preparing the data ---- "
   ]
  },
  {
   "cell_type": "code",
   "execution_count": 4,
   "metadata": {},
   "outputs": [
    {
     "name": "stderr",
     "output_type": "stream",
     "text": [
      "Warning message in file(file, \"rt\"):\n",
      "\"无法打开文件'wisc_bc_data.csv': No such file or directory\""
     ]
    },
    {
     "ename": "ERROR",
     "evalue": "Error in file(file, \"rt\"): 无法打开链结\n",
     "output_type": "error",
     "traceback": [
      "Error in file(file, \"rt\"): 无法打开链结\nTraceback:\n",
      "1. read.csv(\"wisc_bc_data.csv\", stringsAsFactors = FALSE)",
      "2. read.table(file = file, header = header, sep = sep, quote = quote, \n .     dec = dec, fill = fill, comment.char = comment.char, ...)",
      "3. file(file, \"rt\")"
     ]
    }
   ],
   "source": [
    "# import the CSV file\n",
    "wbcd <- read.csv(\"wisc_bc_data.csv\", stringsAsFactors = FALSE)"
   ]
  },
  {
   "cell_type": "code",
   "execution_count": 5,
   "metadata": {},
   "outputs": [
    {
     "ename": "ERROR",
     "evalue": "Error in str(wbcd): 找不到对象'wbcd'\n",
     "output_type": "error",
     "traceback": [
      "Error in str(wbcd): 找不到对象'wbcd'\nTraceback:\n",
      "1. str(wbcd)"
     ]
    }
   ],
   "source": [
    "# examine the structure of the wbcd data frame\n",
    "str(wbcd)"
   ]
  },
  {
   "cell_type": "code",
   "execution_count": 6,
   "metadata": {},
   "outputs": [
    {
     "ename": "ERROR",
     "evalue": "Error in table(wbcd$diagnosis): 找不到对象'wbcd'\n",
     "output_type": "error",
     "traceback": [
      "Error in table(wbcd$diagnosis): 找不到对象'wbcd'\nTraceback:\n",
      "1. table(wbcd$diagnosis)"
     ]
    }
   ],
   "source": [
    "# table of diagnosis\n",
    "table(wbcd$diagnosis)"
   ]
  },
  {
   "cell_type": "code",
   "execution_count": 7,
   "metadata": {},
   "outputs": [
    {
     "ename": "ERROR",
     "evalue": "Error in factor(wbcd$diagnosis, levels = c(\"B\", \"M\"), labels = c(\"Benign\", : 找不到对象'wbcd'\n",
     "output_type": "error",
     "traceback": [
      "Error in factor(wbcd$diagnosis, levels = c(\"B\", \"M\"), labels = c(\"Benign\", : 找不到对象'wbcd'\nTraceback:\n",
      "1. factor(wbcd$diagnosis, levels = c(\"B\", \"M\"), labels = c(\"Benign\", \n .     \"Malignant\"))"
     ]
    }
   ],
   "source": [
    "# recode diagnosis as a factor\n",
    "wbcd$diagnosis <- factor(wbcd$diagnosis, levels = c(\"B\", \"M\"),\n",
    "                         labels = c(\"Benign\", \"Malignant\"))"
   ]
  },
  {
   "cell_type": "code",
   "execution_count": 8,
   "metadata": {},
   "outputs": [
    {
     "ename": "ERROR",
     "evalue": "Error in table(wbcd$diagnosis): 找不到对象'wbcd'\n",
     "output_type": "error",
     "traceback": [
      "Error in table(wbcd$diagnosis): 找不到对象'wbcd'\nTraceback:\n",
      "1. prop.table(table(wbcd$diagnosis))",
      "2. table(wbcd$diagnosis)"
     ]
    }
   ],
   "source": [
    "# table or proportions with more informative labels\n",
    "round(prop.table(table(wbcd$diagnosis)) * 100, digits = 1)"
   ]
  },
  {
   "cell_type": "code",
   "execution_count": 25,
   "metadata": {},
   "outputs": [
    {
     "data": {
      "text/plain": [
       "  radius_mean       area_mean      smoothness_mean  \n",
       " Min.   : 6.981   Min.   : 143.5   Min.   :0.05263  \n",
       " 1st Qu.:11.700   1st Qu.: 420.3   1st Qu.:0.08637  \n",
       " Median :13.370   Median : 551.1   Median :0.09587  \n",
       " Mean   :14.127   Mean   : 654.9   Mean   :0.09636  \n",
       " 3rd Qu.:15.780   3rd Qu.: 782.7   3rd Qu.:0.10530  \n",
       " Max.   :28.110   Max.   :2501.0   Max.   :0.16340  "
      ]
     },
     "metadata": {},
     "output_type": "display_data"
    }
   ],
   "source": [
    "# summarize three numeric features\n",
    "summary(wbcd[c(\"radius_mean\", \"area_mean\", \"smoothness_mean\")])"
   ]
  },
  {
   "cell_type": "code",
   "execution_count": 26,
   "metadata": {},
   "outputs": [
    {
     "data": {
      "text/html": [
       "<ol class=list-inline>\n",
       "\t<li>0</li>\n",
       "\t<li>0.25</li>\n",
       "\t<li>0.5</li>\n",
       "\t<li>0.75</li>\n",
       "\t<li>1</li>\n",
       "</ol>\n"
      ],
      "text/latex": [
       "\\begin{enumerate*}\n",
       "\\item 0\n",
       "\\item 0.25\n",
       "\\item 0.5\n",
       "\\item 0.75\n",
       "\\item 1\n",
       "\\end{enumerate*}\n"
      ],
      "text/markdown": [
       "1. 0\n",
       "2. 0.25\n",
       "3. 0.5\n",
       "4. 0.75\n",
       "5. 1\n",
       "\n",
       "\n"
      ],
      "text/plain": [
       "[1] 0.00 0.25 0.50 0.75 1.00"
      ]
     },
     "metadata": {},
     "output_type": "display_data"
    },
    {
     "data": {
      "text/html": [
       "<ol class=list-inline>\n",
       "\t<li>0</li>\n",
       "\t<li>0.25</li>\n",
       "\t<li>0.5</li>\n",
       "\t<li>0.75</li>\n",
       "\t<li>1</li>\n",
       "</ol>\n"
      ],
      "text/latex": [
       "\\begin{enumerate*}\n",
       "\\item 0\n",
       "\\item 0.25\n",
       "\\item 0.5\n",
       "\\item 0.75\n",
       "\\item 1\n",
       "\\end{enumerate*}\n"
      ],
      "text/markdown": [
       "1. 0\n",
       "2. 0.25\n",
       "3. 0.5\n",
       "4. 0.75\n",
       "5. 1\n",
       "\n",
       "\n"
      ],
      "text/plain": [
       "[1] 0.00 0.25 0.50 0.75 1.00"
      ]
     },
     "metadata": {},
     "output_type": "display_data"
    }
   ],
   "source": [
    "# create normalization function\n",
    "normalize <- function(x) {\n",
    "  return ((x - min(x)) / (max(x) - min(x)))\n",
    "}\n",
    "\n",
    "# test normalization function - result should be identical\n",
    "normalize(c(1, 2, 3, 4, 5))\n",
    "normalize(c(10, 20, 30, 40, 50))"
   ]
  },
  {
   "cell_type": "code",
   "execution_count": 27,
   "metadata": {},
   "outputs": [
    {
     "ename": "ERROR",
     "evalue": "Error in Summary.factor(structure(c(1L, 1L, 1L, 1L, 1L, 1L, 1L, 2L, 1L, : 'min' not meaningful for factors\n",
     "output_type": "error",
     "traceback": [
      "Error in Summary.factor(structure(c(1L, 1L, 1L, 1L, 1L, 1L, 1L, 2L, 1L, : 'min' not meaningful for factors\nTraceback:\n",
      "1. as.data.frame(lapply(wbcd[2:31], normalize))",
      "2. lapply(wbcd[2:31], normalize)",
      "3. FUN(X[[i]], ...)",
      "4. Summary.factor(structure(c(1L, 1L, 1L, 1L, 1L, 1L, 1L, 2L, 1L, \n . 1L, 2L, 1L, 1L, 1L, 2L, 1L, 1L, 1L, 2L, 1L, 1L, 1L, 1L, 1L, 1L, \n . 2L, 1L, 2L, 1L, 1L, 1L, 2L, 2L, 1L, 1L, 1L, 2L, 1L, 2L, 2L, 2L, \n . 2L, 2L, 1L, 1L, 2L, 1L, 2L, 1L, 1L, 2L, 1L, 1L, 1L, 2L, 1L, 1L, \n . 1L, 2L, 2L, 2L, 2L, 2L, 2L, 2L, 1L, 1L, 1L, 1L, 1L, 2L, 1L, 1L, \n . 1L, 1L, 1L, 2L, 1L, 1L, 2L, 1L, 1L, 1L, 1L, 1L, 1L, 1L, 1L, 2L, \n . 1L, 1L, 1L, 2L, 1L, 2L, 2L, 1L, 1L, 1L, 2L, 1L, 1L, 1L, 2L, 1L, \n . 1L, 1L, 1L, 1L, 1L, 1L, 1L, 2L, 2L, 1L, 2L, 2L, 2L, 2L, 1L, 1L, \n . 2L, 1L, 2L, 1L, 1L, 2L, 2L, 2L, 2L, 2L, 1L, 1L, 2L, 1L, 2L, 1L, \n . 1L, 2L, 1L, 2L, 2L, 2L, 2L, 2L, 1L, 2L, 1L, 1L, 1L, 1L, 1L, 1L, \n . 1L, 1L, 1L, 1L, 2L, 1L, 1L, 1L, 1L, 1L, 1L, 2L, 2L, 1L, 2L, 1L, \n . 1L, 2L, 2L, 2L, 1L, 2L, 1L, 2L, 1L, 2L, 1L, 1L, 2L, 1L, 2L, 1L, \n . 1L, 2L, 2L, 2L, 1L, 2L, 1L, 1L, 2L, 2L, 2L, 2L, 1L, 1L, 1L, 2L, \n . 1L, 1L, 1L, 1L, 2L, 1L, 2L, 1L, 2L, 1L, 2L, 2L, 1L, 1L, 1L, 1L, \n . 1L, 2L, 2L, 1L, 1L, 2L, 1L, 1L, 1L, 1L, 2L, 2L, 1L, 1L, 1L, 1L, \n . 2L, 1L, 1L, 2L, 1L, 1L, 1L, 2L, 1L, 1L, 2L, 2L, 1L, 1L, 1L, 1L, \n . 1L, 1L, 2L, 1L, 2L, 1L, 1L, 1L, 1L, 1L, 1L, 1L, 1L, 2L, 1L, 2L, \n . 2L, 1L, 1L, 1L, 2L, 1L, 2L, 1L, 1L, 2L, 2L, 1L, 2L, 1L, 1L, 2L, \n . 1L, 1L, 1L, 2L, 1L, 2L, 2L, 2L, 1L, 1L, 1L, 2L, 1L, 2L, 2L, 2L, \n . 2L, 1L, 2L, 2L, 1L, 1L, 2L, 2L, 2L, 2L, 1L, 1L, 1L, 2L, 2L, 1L, \n . 1L, 2L, 1L, 2L, 2L, 1L, 1L, 1L, 2L, 2L, 1L, 1L, 2L, 1L, 2L, 1L, \n . 2L, 1L, 1L, 1L, 1L, 2L, 1L, 1L, 1L, 2L, 1L, 1L, 2L, 2L, 1L, 2L, \n . 1L, 1L, 1L, 2L, 1L, 1L, 2L, 1L, 1L, 2L, 1L, 1L, 1L, 2L, 1L, 2L, \n . 2L, 1L, 1L, 1L, 1L, 2L, 1L, 1L, 2L, 1L, 1L, 1L, 1L, 1L, 1L, 1L, \n . 1L, 1L, 1L, 1L, 1L, 2L, 2L, 1L, 1L, 2L, 1L, 2L, 1L, 2L, 1L, 1L, \n . 2L, 1L, 1L, 1L, 2L, 2L, 1L, 1L, 1L, 2L, 2L, 1L, 2L, 1L, 1L, 2L, \n . 1L, 1L, 1L, 1L, 1L, 1L, 2L, 1L, 1L, 2L, 2L, 1L, 2L, 1L, 1L, 1L, \n . 2L, 1L, 1L, 1L, 2L, 2L, 2L, 1L, 2L, 1L, 1L, 2L, 1L, 1L, 1L, 1L, \n . 1L, 2L, 1L, 2L, 1L, 1L, 1L, 1L, 2L, 1L, 2L, 2L, 1L, 1L, 1L, 1L, \n . 2L, 1L, 1L, 2L, 2L, 1L, 1L, 2L, 1L, 1L, 2L, 1L, 1L, 1L, 1L, 1L, \n . 2L, 1L, 2L, 1L, 2L, 1L, 2L, 1L, 2L, 2L, 1L, 1L, 2L, 1L, 2L, 1L, \n . 2L, 2L, 2L, 2L, 1L, 1L, 1L, 1L, 2L, 2L, 2L, 2L, 2L, 2L, 1L, 1L, \n . 1L, 1L, 1L, 2L, 2L, 1L, 2L, 2L, 1L, 2L, 2L, 2L, 2L, 2L, 1L, 1L, \n . 1L, 2L, 1L, 1L, 1L, 1L, 2L, 1L, 1L, 1L, 1L, 1L, 2L, 2L, 1L, 1L, \n . 1L, 1L, 1L, 2L, 1L, 1L, 2L, 2L, 1L, 1L, 1L, 1L, 1L, 1L, 1L, 2L, \n . 1L, 1L, 2L, 1L, 1L, 1L, 1L, 2L, 1L, 1L, 1L, 1L, 1L, 2L, 1L, 2L\n . ), .Label = c(\"Benign\", \"Malignant\"), class = \"factor\"), na.rm = FALSE)   # at line 3 of file <text>",
      "5. stop(gettextf(\"%s not meaningful for factors\", sQuote(.Generic)))"
     ]
    }
   ],
   "source": [
    "# normalize the wbcd data\n",
    "wbcd_n <- as.data.frame(lapply(wbcd[2:31], normalize))"
   ]
  },
  {
   "cell_type": "code",
   "execution_count": 28,
   "metadata": {},
   "outputs": [
    {
     "ename": "ERROR",
     "evalue": "Error in summary(wbcd_n$area_mean): 找不到对象'wbcd_n'\n",
     "output_type": "error",
     "traceback": [
      "Error in summary(wbcd_n$area_mean): 找不到对象'wbcd_n'\nTraceback:\n",
      "1. summary(wbcd_n$area_mean)"
     ]
    }
   ],
   "source": [
    "# confirm that normalization worked\n",
    "summary(wbcd_n$area_mean)"
   ]
  },
  {
   "cell_type": "code",
   "execution_count": 17,
   "metadata": {},
   "outputs": [
    {
     "ename": "ERROR",
     "evalue": "Error in eval(expr, envir, enclos): 找不到对象'wbcd_n'\n",
     "output_type": "error",
     "traceback": [
      "Error in eval(expr, envir, enclos): 找不到对象'wbcd_n'\nTraceback:\n"
     ]
    }
   ],
   "source": [
    "# create training and test data\n",
    "wbcd_train <- wbcd_n[1:469, ]\n",
    "wbcd_test <- wbcd_n[470:569, ]"
   ]
  },
  {
   "cell_type": "code",
   "execution_count": 18,
   "metadata": {
    "collapsed": true
   },
   "outputs": [],
   "source": [
    "# create labels for training and test data\n",
    "\n",
    "wbcd_train_labels <- wbcd[1:469, 1]\n",
    "wbcd_test_labels <- wbcd[470:569, 1]"
   ]
  },
  {
   "cell_type": "markdown",
   "metadata": {},
   "source": [
    "## Step 3: Training a model on the data ----"
   ]
  },
  {
   "cell_type": "code",
   "execution_count": 45,
   "metadata": {
    "collapsed": true
   },
   "outputs": [],
   "source": [
    "# load the \"class\" library\n",
    "library(class)"
   ]
  },
  {
   "cell_type": "code",
   "execution_count": 46,
   "metadata": {},
   "outputs": [
    {
     "ename": "ERROR",
     "evalue": "Error in as.matrix(train): 找不到对象'wbcd_train'\n",
     "output_type": "error",
     "traceback": [
      "Error in as.matrix(train): 找不到对象'wbcd_train'\nTraceback:\n",
      "1. knn(train = wbcd_train, test = wbcd_test, cl = wbcd_train_labels, \n .     k = 21)",
      "2. as.matrix(train)"
     ]
    }
   ],
   "source": [
    "wbcd_test_pred <- knn(train = wbcd_train, test = wbcd_test,\n",
    "                      cl = wbcd_train_labels, k = 21)"
   ]
  },
  {
   "cell_type": "markdown",
   "metadata": {},
   "source": [
    "## Step 4: Evaluating model performance ----"
   ]
  },
  {
   "cell_type": "code",
   "execution_count": 47,
   "metadata": {},
   "outputs": [
    {
     "ename": "ERROR",
     "evalue": "Error in library(gmodels): there is no package called 'gmodels'\n",
     "output_type": "error",
     "traceback": [
      "Error in library(gmodels): there is no package called 'gmodels'\nTraceback:\n",
      "1. library(gmodels)",
      "2. stop(txt, domain = NA)"
     ]
    }
   ],
   "source": [
    "# load the \"gmodels\" library\n",
    "library(gmodels)"
   ]
  },
  {
   "cell_type": "code",
   "execution_count": 48,
   "metadata": {},
   "outputs": [
    {
     "ename": "ERROR",
     "evalue": "Error in CrossTable(x = wbcd_test_labels, y = wbcd_test_pred, prop.chisq = FALSE): 没有\"CrossTable\"这个函数\n",
     "output_type": "error",
     "traceback": [
      "Error in CrossTable(x = wbcd_test_labels, y = wbcd_test_pred, prop.chisq = FALSE): 没有\"CrossTable\"这个函数\nTraceback:\n"
     ]
    }
   ],
   "source": [
    "# Create the cross tabulation of predicted vs. actual\n",
    "CrossTable(x = wbcd_test_labels, y = wbcd_test_pred,\n",
    "           prop.chisq = FALSE)"
   ]
  },
  {
   "cell_type": "markdown",
   "metadata": {},
   "source": [
    "## Step 5: Improving model performance ----"
   ]
  },
  {
   "cell_type": "code",
   "execution_count": 49,
   "metadata": {},
   "outputs": [
    {
     "ename": "ERROR",
     "evalue": "Error in colMeans(x, na.rm = TRUE): 'x'必需为数值\n",
     "output_type": "error",
     "traceback": [
      "Error in colMeans(x, na.rm = TRUE): 'x'必需为数值\nTraceback:\n",
      "1. as.data.frame(scale(wbcd[-1]))",
      "2. scale(wbcd[-1])",
      "3. scale.default(wbcd[-1])",
      "4. colMeans(x, na.rm = TRUE)"
     ]
    }
   ],
   "source": [
    "# use the scale() function to z-score standardize a data frame\n",
    "wbcd_z <- as.data.frame(scale(wbcd[-1]))"
   ]
  },
  {
   "cell_type": "code",
   "execution_count": 50,
   "metadata": {},
   "outputs": [
    {
     "ename": "ERROR",
     "evalue": "Error in summary(wbcd_z$area_mean): 找不到对象'wbcd_z'\n",
     "output_type": "error",
     "traceback": [
      "Error in summary(wbcd_z$area_mean): 找不到对象'wbcd_z'\nTraceback:\n",
      "1. summary(wbcd_z$area_mean)"
     ]
    }
   ],
   "source": [
    "# confirm that the transformation was applied correctly\n",
    "summary(wbcd_z$area_mean)"
   ]
  },
  {
   "cell_type": "code",
   "execution_count": 51,
   "metadata": {},
   "outputs": [
    {
     "ename": "ERROR",
     "evalue": "Error in eval(expr, envir, enclos): 找不到对象'wbcd_z'\n",
     "output_type": "error",
     "traceback": [
      "Error in eval(expr, envir, enclos): 找不到对象'wbcd_z'\nTraceback:\n"
     ]
    }
   ],
   "source": [
    "# create training and test datasets\n",
    "wbcd_train <- wbcd_z[1:469, ]\n",
    "wbcd_test <- wbcd_z[470:569, ]"
   ]
  },
  {
   "cell_type": "code",
   "execution_count": 52,
   "metadata": {},
   "outputs": [
    {
     "ename": "ERROR",
     "evalue": "Error in as.matrix(train): 找不到对象'wbcd_train'\n",
     "output_type": "error",
     "traceback": [
      "Error in as.matrix(train): 找不到对象'wbcd_train'\nTraceback:\n",
      "1. knn(train = wbcd_train, test = wbcd_test, cl = wbcd_train_labels, \n .     k = 21)",
      "2. as.matrix(train)"
     ]
    }
   ],
   "source": [
    "# re-classify test cases\n",
    "wbcd_test_pred <- knn(train = wbcd_train, test = wbcd_test,\n",
    "                      cl = wbcd_train_labels, k = 21)"
   ]
  },
  {
   "cell_type": "code",
   "execution_count": 53,
   "metadata": {},
   "outputs": [
    {
     "ename": "ERROR",
     "evalue": "Error in CrossTable(x = wbcd_test_labels, y = wbcd_test_pred, prop.chisq = FALSE): 没有\"CrossTable\"这个函数\n",
     "output_type": "error",
     "traceback": [
      "Error in CrossTable(x = wbcd_test_labels, y = wbcd_test_pred, prop.chisq = FALSE): 没有\"CrossTable\"这个函数\nTraceback:\n"
     ]
    }
   ],
   "source": [
    "# Create the cross tabulation of predicted vs. actual\n",
    "CrossTable(x = wbcd_test_labels, y = wbcd_test_pred,\n",
    "           prop.chisq = FALSE)"
   ]
  },
  {
   "cell_type": "code",
   "execution_count": 54,
   "metadata": {},
   "outputs": [
    {
     "ename": "ERROR",
     "evalue": "Error in eval(expr, envir, enclos): 找不到对象'wbcd_n'\n",
     "output_type": "error",
     "traceback": [
      "Error in eval(expr, envir, enclos): 找不到对象'wbcd_n'\nTraceback:\n"
     ]
    }
   ],
   "source": [
    "# try several different values of k\n",
    "wbcd_train <- wbcd_n[1:469, ]\n",
    "wbcd_test <- wbcd_n[470:569, ]"
   ]
  },
  {
   "cell_type": "code",
   "execution_count": 55,
   "metadata": {},
   "outputs": [
    {
     "ename": "ERROR",
     "evalue": "Error in as.matrix(train): 找不到对象'wbcd_train'\n",
     "output_type": "error",
     "traceback": [
      "Error in as.matrix(train): 找不到对象'wbcd_train'\nTraceback:\n",
      "1. knn(train = wbcd_train, test = wbcd_test, cl = wbcd_train_labels, \n .     k = 1)",
      "2. as.matrix(train)"
     ]
    }
   ],
   "source": [
    "wbcd_test_pred <- knn(train = wbcd_train, test = wbcd_test, cl = wbcd_train_labels, k=1)\n",
    "CrossTable(x = wbcd_test_labels, y = wbcd_test_pred, prop.chisq=FALSE)"
   ]
  },
  {
   "cell_type": "code",
   "execution_count": 56,
   "metadata": {},
   "outputs": [
    {
     "ename": "ERROR",
     "evalue": "Error in as.matrix(train): 找不到对象'wbcd_train'\n",
     "output_type": "error",
     "traceback": [
      "Error in as.matrix(train): 找不到对象'wbcd_train'\nTraceback:\n",
      "1. knn(train = wbcd_train, test = wbcd_test, cl = wbcd_train_labels, \n .     k = 5)",
      "2. as.matrix(train)"
     ]
    }
   ],
   "source": [
    "wbcd_test_pred <- knn(train = wbcd_train, test = wbcd_test, cl = wbcd_train_labels, k=5)\n",
    "CrossTable(x = wbcd_test_labels, y = wbcd_test_pred, prop.chisq=FALSE)\n",
    "\n",
    "wbcd_test_pred <- knn(train = wbcd_train, test = wbcd_test, cl = wbcd_train_labels, k=11)\n",
    "CrossTable(x = wbcd_test_labels, y = wbcd_test_pred, prop.chisq=FALSE)\n",
    "\n",
    "wbcd_test_pred <- knn(train = wbcd_train, test = wbcd_test, cl = wbcd_train_labels, k=15)\n",
    "CrossTable(x = wbcd_test_labels, y = wbcd_test_pred, prop.chisq=FALSE)\n",
    "\n",
    "wbcd_test_pred <- knn(train = wbcd_train, test = wbcd_test, cl = wbcd_train_labels, k=21)\n",
    "CrossTable(x = wbcd_test_labels, y = wbcd_test_pred, prop.chisq=FALSE)\n",
    "\n",
    "wbcd_test_pred <- knn(train = wbcd_train, test = wbcd_test, cl = wbcd_train_labels, k=27)\n",
    "CrossTable(x = wbcd_test_labels, y = wbcd_test_pred, prop.chisq=FALSE)"
   ]
  },
  {
   "cell_type": "code",
   "execution_count": null,
   "metadata": {
    "collapsed": true
   },
   "outputs": [],
   "source": []
  }
 ],
 "metadata": {
  "kernelspec": {
   "display_name": "R",
   "language": "R",
   "name": "ir"
  },
  "language_info": {
   "codemirror_mode": "r",
   "file_extension": ".r",
   "mimetype": "text/x-r-source",
   "name": "R",
   "pygments_lexer": "r",
   "version": "3.4.2"
  },
  "toc": {
   "nav_menu": {},
   "number_sections": true,
   "sideBar": true,
   "skip_h1_title": false,
   "toc_cell": false,
   "toc_position": {},
   "toc_section_display": "block",
   "toc_window_display": false
  }
 },
 "nbformat": 4,
 "nbformat_minor": 2
}
